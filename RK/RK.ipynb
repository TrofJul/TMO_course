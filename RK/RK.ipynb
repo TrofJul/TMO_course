{
 "cells": [
  {
   "cell_type": "markdown",
   "metadata": {},
   "source": [
    "# Рубежный контроль\n",
    "## Трофимова Юлия РТ5-61 Вариант 15"
   ]
  },
  {
   "cell_type": "code",
   "execution_count": 1,
   "metadata": {},
   "outputs": [],
   "source": [
    "import numpy as np\n",
    "import pandas as pd\n",
    "import matplotlib.pyplot as plt\n",
    "%matplotlib inline "
   ]
  },
  {
   "cell_type": "code",
   "execution_count": 2,
   "metadata": {},
   "outputs": [],
   "source": [
    "data = pd.read_csv('restaurant-scores.csv')"
   ]
  },
  {
   "cell_type": "code",
   "execution_count": 3,
   "metadata": {},
   "outputs": [
    {
     "data": {
      "text/plain": [
       "(53973, 17)"
      ]
     },
     "execution_count": 3,
     "metadata": {},
     "output_type": "execute_result"
    }
   ],
   "source": [
    "data.shape"
   ]
  },
  {
   "cell_type": "code",
   "execution_count": 4,
   "metadata": {},
   "outputs": [
    {
     "data": {
      "text/html": [
       "<div>\n",
       "<style scoped>\n",
       "    .dataframe tbody tr th:only-of-type {\n",
       "        vertical-align: middle;\n",
       "    }\n",
       "\n",
       "    .dataframe tbody tr th {\n",
       "        vertical-align: top;\n",
       "    }\n",
       "\n",
       "    .dataframe thead th {\n",
       "        text-align: right;\n",
       "    }\n",
       "</style>\n",
       "<table border=\"1\" class=\"dataframe\">\n",
       "  <thead>\n",
       "    <tr style=\"text-align: right;\">\n",
       "      <th></th>\n",
       "      <th>business_id</th>\n",
       "      <th>business_name</th>\n",
       "      <th>business_address</th>\n",
       "      <th>business_city</th>\n",
       "      <th>business_state</th>\n",
       "      <th>business_postal_code</th>\n",
       "      <th>business_latitude</th>\n",
       "      <th>business_longitude</th>\n",
       "      <th>business_location</th>\n",
       "      <th>business_phone_number</th>\n",
       "      <th>inspection_id</th>\n",
       "      <th>inspection_date</th>\n",
       "      <th>inspection_score</th>\n",
       "      <th>inspection_type</th>\n",
       "      <th>violation_id</th>\n",
       "      <th>violation_description</th>\n",
       "      <th>risk_category</th>\n",
       "    </tr>\n",
       "  </thead>\n",
       "  <tbody>\n",
       "    <tr>\n",
       "      <td>0</td>\n",
       "      <td>69618</td>\n",
       "      <td>Fancy Wheatfield Bakery</td>\n",
       "      <td>1362 Stockton St</td>\n",
       "      <td>San Francisco</td>\n",
       "      <td>CA</td>\n",
       "      <td>94133</td>\n",
       "      <td>NaN</td>\n",
       "      <td>NaN</td>\n",
       "      <td>NaN</td>\n",
       "      <td>NaN</td>\n",
       "      <td>69618_20190304</td>\n",
       "      <td>2019-03-04T00:00:00.000</td>\n",
       "      <td>NaN</td>\n",
       "      <td>Complaint</td>\n",
       "      <td>69618_20190304_103130</td>\n",
       "      <td>Inadequate sewage or wastewater disposal</td>\n",
       "      <td>Moderate Risk</td>\n",
       "    </tr>\n",
       "    <tr>\n",
       "      <td>1</td>\n",
       "      <td>97975</td>\n",
       "      <td>BREADBELLY</td>\n",
       "      <td>1408 Clement St</td>\n",
       "      <td>San Francisco</td>\n",
       "      <td>CA</td>\n",
       "      <td>94118</td>\n",
       "      <td>NaN</td>\n",
       "      <td>NaN</td>\n",
       "      <td>NaN</td>\n",
       "      <td>1.415724e+10</td>\n",
       "      <td>97975_20190725</td>\n",
       "      <td>2019-07-25T00:00:00.000</td>\n",
       "      <td>96.0</td>\n",
       "      <td>Routine - Unscheduled</td>\n",
       "      <td>97975_20190725_103124</td>\n",
       "      <td>Inadequately cleaned or sanitized food contact...</td>\n",
       "      <td>Moderate Risk</td>\n",
       "    </tr>\n",
       "    <tr>\n",
       "      <td>2</td>\n",
       "      <td>69487</td>\n",
       "      <td>Hakkasan San Francisco</td>\n",
       "      <td>1 Kearny St</td>\n",
       "      <td>San Francisco</td>\n",
       "      <td>CA</td>\n",
       "      <td>94108</td>\n",
       "      <td>NaN</td>\n",
       "      <td>NaN</td>\n",
       "      <td>NaN</td>\n",
       "      <td>NaN</td>\n",
       "      <td>69487_20180418</td>\n",
       "      <td>2018-04-18T00:00:00.000</td>\n",
       "      <td>88.0</td>\n",
       "      <td>Routine - Unscheduled</td>\n",
       "      <td>69487_20180418_103119</td>\n",
       "      <td>Inadequate and inaccessible handwashing facili...</td>\n",
       "      <td>Moderate Risk</td>\n",
       "    </tr>\n",
       "    <tr>\n",
       "      <td>3</td>\n",
       "      <td>91044</td>\n",
       "      <td>Chopsticks Restaurant</td>\n",
       "      <td>4615 Mission St</td>\n",
       "      <td>San Francisco</td>\n",
       "      <td>CA</td>\n",
       "      <td>94112</td>\n",
       "      <td>NaN</td>\n",
       "      <td>NaN</td>\n",
       "      <td>NaN</td>\n",
       "      <td>NaN</td>\n",
       "      <td>91044_20170818</td>\n",
       "      <td>2017-08-18T00:00:00.000</td>\n",
       "      <td>NaN</td>\n",
       "      <td>Non-inspection site visit</td>\n",
       "      <td>NaN</td>\n",
       "      <td>NaN</td>\n",
       "      <td>NaN</td>\n",
       "    </tr>\n",
       "    <tr>\n",
       "      <td>4</td>\n",
       "      <td>85987</td>\n",
       "      <td>Tselogs</td>\n",
       "      <td>552 Jones St</td>\n",
       "      <td>San Francisco</td>\n",
       "      <td>CA</td>\n",
       "      <td>94102</td>\n",
       "      <td>NaN</td>\n",
       "      <td>NaN</td>\n",
       "      <td>NaN</td>\n",
       "      <td>NaN</td>\n",
       "      <td>85987_20180412</td>\n",
       "      <td>2018-04-12T00:00:00.000</td>\n",
       "      <td>94.0</td>\n",
       "      <td>Routine - Unscheduled</td>\n",
       "      <td>85987_20180412_103132</td>\n",
       "      <td>Improper thawing methods</td>\n",
       "      <td>Moderate Risk</td>\n",
       "    </tr>\n",
       "  </tbody>\n",
       "</table>\n",
       "</div>"
      ],
      "text/plain": [
       "   business_id            business_name  business_address  business_city  \\\n",
       "0        69618  Fancy Wheatfield Bakery  1362 Stockton St  San Francisco   \n",
       "1        97975               BREADBELLY   1408 Clement St  San Francisco   \n",
       "2        69487   Hakkasan San Francisco       1 Kearny St  San Francisco   \n",
       "3        91044    Chopsticks Restaurant   4615 Mission St  San Francisco   \n",
       "4        85987                  Tselogs      552 Jones St  San Francisco   \n",
       "\n",
       "  business_state business_postal_code  business_latitude  business_longitude  \\\n",
       "0             CA                94133                NaN                 NaN   \n",
       "1             CA                94118                NaN                 NaN   \n",
       "2             CA                94108                NaN                 NaN   \n",
       "3             CA                94112                NaN                 NaN   \n",
       "4             CA                94102                NaN                 NaN   \n",
       "\n",
       "  business_location  business_phone_number   inspection_id  \\\n",
       "0               NaN                    NaN  69618_20190304   \n",
       "1               NaN           1.415724e+10  97975_20190725   \n",
       "2               NaN                    NaN  69487_20180418   \n",
       "3               NaN                    NaN  91044_20170818   \n",
       "4               NaN                    NaN  85987_20180412   \n",
       "\n",
       "           inspection_date  inspection_score            inspection_type  \\\n",
       "0  2019-03-04T00:00:00.000               NaN                  Complaint   \n",
       "1  2019-07-25T00:00:00.000              96.0      Routine - Unscheduled   \n",
       "2  2018-04-18T00:00:00.000              88.0      Routine - Unscheduled   \n",
       "3  2017-08-18T00:00:00.000               NaN  Non-inspection site visit   \n",
       "4  2018-04-12T00:00:00.000              94.0      Routine - Unscheduled   \n",
       "\n",
       "            violation_id                              violation_description  \\\n",
       "0  69618_20190304_103130           Inadequate sewage or wastewater disposal   \n",
       "1  97975_20190725_103124  Inadequately cleaned or sanitized food contact...   \n",
       "2  69487_20180418_103119  Inadequate and inaccessible handwashing facili...   \n",
       "3                    NaN                                                NaN   \n",
       "4  85987_20180412_103132                           Improper thawing methods   \n",
       "\n",
       "   risk_category  \n",
       "0  Moderate Risk  \n",
       "1  Moderate Risk  \n",
       "2  Moderate Risk  \n",
       "3            NaN  \n",
       "4  Moderate Risk  "
      ]
     },
     "execution_count": 4,
     "metadata": {},
     "output_type": "execute_result"
    }
   ],
   "source": [
    "data.head()"
   ]
  },
  {
   "cell_type": "code",
   "execution_count": 5,
   "metadata": {},
   "outputs": [
    {
     "data": {
      "text/plain": [
       "business_id                int64\n",
       "business_name             object\n",
       "business_address          object\n",
       "business_city             object\n",
       "business_state            object\n",
       "business_postal_code      object\n",
       "business_latitude        float64\n",
       "business_longitude       float64\n",
       "business_location         object\n",
       "business_phone_number    float64\n",
       "inspection_id             object\n",
       "inspection_date           object\n",
       "inspection_score         float64\n",
       "inspection_type           object\n",
       "violation_id              object\n",
       "violation_description     object\n",
       "risk_category             object\n",
       "dtype: object"
      ]
     },
     "execution_count": 5,
     "metadata": {},
     "output_type": "execute_result"
    }
   ],
   "source": [
    "data.dtypes"
   ]
  },
  {
   "cell_type": "code",
   "execution_count": 6,
   "metadata": {},
   "outputs": [
    {
     "data": {
      "text/plain": [
       "business_id                  0\n",
       "business_name                0\n",
       "business_address             0\n",
       "business_city                0\n",
       "business_state               0\n",
       "business_postal_code      1083\n",
       "business_latitude        24095\n",
       "business_longitude       24095\n",
       "business_location        24095\n",
       "business_phone_number    36539\n",
       "inspection_id                0\n",
       "inspection_date              0\n",
       "inspection_score         14114\n",
       "inspection_type              0\n",
       "violation_id             13462\n",
       "violation_description    13462\n",
       "risk_category            13462\n",
       "dtype: int64"
      ]
     },
     "execution_count": 6,
     "metadata": {},
     "output_type": "execute_result"
    }
   ],
   "source": [
    "# проверяем на пропущенные значения\n",
    "data.isnull().sum()"
   ]
  },
  {
   "cell_type": "markdown",
   "metadata": {},
   "source": [
    "Видим, что пропуски присутствуют в столбцах business_postal_code, business_latitude, business_longitude, business_location,\n",
    "business_phone_number, inspection_score, violation_id, violation_description, risk_category"
   ]
  },
  {
   "cell_type": "markdown",
   "metadata": {},
   "source": [
    "Проведем обработку пропусков для столбцов inspection_score(количественный признак) и risk_category(категориальный признак)"
   ]
  },
  {
   "cell_type": "code",
   "execution_count": 7,
   "metadata": {},
   "outputs": [
    {
     "data": {
      "text/plain": [
       "array([ nan,  96.,  88.,  94.,  86., 100.,  90.,  72.,  82.,  92.,  89.,\n",
       "        84.,  93.,  87.,  74.,  78.,  57.,  75.,  83.,  91.,  79.,  80.,\n",
       "        66.,  85.,  77.,  65.,  81.,  67.,  73.,  98.,  68.,  64.,  76.,\n",
       "        71.,  61.,  46.,  59.,  55.,  62.,  70.,  60.,  69.,  63.,  58.,\n",
       "        54.,  45.,  48.,  51.])"
      ]
     },
     "execution_count": 7,
     "metadata": {},
     "output_type": "execute_result"
    }
   ],
   "source": [
    "data['inspection_score'].unique()"
   ]
  },
  {
   "cell_type": "code",
   "execution_count": 8,
   "metadata": {},
   "outputs": [
    {
     "data": {
      "text/plain": [
       "array([ 86.23525427,  96.        ,  88.        ,  94.        ,\n",
       "        86.        , 100.        ,  90.        ,  72.        ,\n",
       "        82.        ,  92.        ,  89.        ,  84.        ,\n",
       "        93.        ,  87.        ,  74.        ,  78.        ,\n",
       "        57.        ,  75.        ,  83.        ,  91.        ,\n",
       "        79.        ,  80.        ,  66.        ,  85.        ,\n",
       "        77.        ,  65.        ,  81.        ,  67.        ,\n",
       "        73.        ,  98.        ,  68.        ,  64.        ,\n",
       "        76.        ,  71.        ,  61.        ,  46.        ,\n",
       "        59.        ,  55.        ,  62.        ,  70.        ,\n",
       "        60.        ,  69.        ,  63.        ,  58.        ,\n",
       "        54.        ,  45.        ,  48.        ,  51.        ])"
      ]
     },
     "execution_count": 8,
     "metadata": {},
     "output_type": "execute_result"
    }
   ],
   "source": [
    "from sklearn.impute import SimpleImputer\n",
    "\n",
    "# Для принака inspection_score пустые значения будем заменять на среднее значение\n",
    "imp = SimpleImputer(missing_values=np.nan, strategy='mean')\n",
    "data['inspection_score'] = imp.fit_transform(data[['inspection_score']])\n",
    "data['inspection_score'].unique()"
   ]
  },
  {
   "cell_type": "code",
   "execution_count": 9,
   "metadata": {},
   "outputs": [
    {
     "data": {
      "text/plain": [
       "array(['Moderate Risk', nan, 'Low Risk', 'High Risk'], dtype=object)"
      ]
     },
     "execution_count": 9,
     "metadata": {},
     "output_type": "execute_result"
    }
   ],
   "source": [
    "data['risk_category'].unique()"
   ]
  },
  {
   "cell_type": "code",
   "execution_count": 10,
   "metadata": {},
   "outputs": [
    {
     "data": {
      "text/plain": [
       "array(['Moderate Risk', 'Unknown', 'Low Risk', 'High Risk'], dtype=object)"
      ]
     },
     "execution_count": 10,
     "metadata": {},
     "output_type": "execute_result"
    }
   ],
   "source": [
    "# Мне кажется, что нельзя проставлять какое-либо значение для риска, где он не указан, поэтому будем заменять \n",
    "# пустые значения на \"Unknown\"\n",
    "imp = SimpleImputer(missing_values=np.nan, strategy='constant', fill_value='Unknown')\n",
    "data['risk_category'] = imp.fit_transform(data[['risk_category']])\n",
    "data['risk_category'].unique()"
   ]
  },
  {
   "cell_type": "markdown",
   "metadata": {},
   "source": [
    "Для дальнейшего построения модели машинного обучения я бы использовала признаки risk_category(целевой признак), inspection_score(потому что он отражает результат проверки и напрямую влияет на категорию риска) и inspection_type(потому что результат проверки может сильно зависеть от ее типа, например, было ли проверяемое заведение предупреждено о проверке)\n",
    "См. ниже"
   ]
  },
  {
   "cell_type": "code",
   "execution_count": 42,
   "metadata": {},
   "outputs": [],
   "source": [
    "data_sorted = data.sort_values('inspection_score')\n",
    "x = data_sorted['inspection_score']\n",
    "\n",
    "high_scores = []\n",
    "for num in x:\n",
    "    high_scores.append(data_sorted[(data_sorted['inspection_score']==num) & (data_sorted['risk_category']=='High Risk')].shape[0])\n",
    "    \n",
    "moderate_scores = []\n",
    "for num in x:\n",
    "    moderate_scores.append(data_sorted[(data_sorted['inspection_score']==num) & (data_sorted['risk_category']=='Moderate Risk')].shape[0])\n",
    "\n",
    "low_scores = []\n",
    "for num in x:\n",
    "    low_scores.append(data_sorted[(data_sorted['inspection_score']==num) & (data_sorted['risk_category']=='Low Risk')].shape[0])\n"
   ]
  },
  {
   "cell_type": "code",
   "execution_count": 43,
   "metadata": {},
   "outputs": [
    {
     "data": {
      "text/plain": [
       "Text(0, 0.5, 'Количество заведений с категорией High Risk')"
      ]
     },
     "execution_count": 43,
     "metadata": {},
     "output_type": "execute_result"
    },
    {
     "data": {
      "image/png": "[encoded data removed]",
      "text/plain": [
       "<Figure size 432x288 with 1 Axes>"
      ]
     },
     "metadata": {
      "needs_background": "light"
     },
     "output_type": "display_data"
    }
   ],
   "source": [
    "plt.scatter(x, high_scores, marker=\".\")\n",
    "plt.title('Зависимость количества категорий \"Высокий риск\" от оценки проверки')\n",
    "plt.xlabel('inspection_score')\n",
    "plt.ylabel('Количество заведений с категорией High Risk')"
   ]
  },
  {
   "cell_type": "code",
   "execution_count": 44,
   "metadata": {},
   "outputs": [
    {
     "data": {
      "text/plain": [
       "Text(0, 0.5, 'Количество заведений с категорией Moderate Risk')"
      ]
     },
     "execution_count": 44,
     "metadata": {},
     "output_type": "execute_result"
    },
    {
     "data": {
      "image/png": "[encoded data removed]",
      "text/plain": [
       "<Figure size 432x288 with 1 Axes>"
      ]
     },
     "metadata": {
      "needs_background": "light"
     },
     "output_type": "display_data"
    }
   ],
   "source": [
    "plt.scatter(x, moderate_scores, marker=\".\")\n",
    "plt.title('Зависимость количества категорий \"Средний риск\" от оценки проверки')\n",
    "plt.xlabel('inspection_score')\n",
    "plt.ylabel('Количество заведений с категорией Moderate Risk')"
   ]
  },
  {
   "cell_type": "code",
   "execution_count": 45,
   "metadata": {},
   "outputs": [
    {
     "data": {
      "text/plain": [
       "Text(0, 0.5, 'Количество заведений с категорией Low Risk')"
      ]
     },
     "execution_count": 45,
     "metadata": {},
     "output_type": "execute_result"
    },
    {
     "data": {
      "image/png": "[encoded data removed]",
      "text/plain": [
       "<Figure size 432x288 with 1 Axes>"
      ]
     },
     "metadata": {
      "needs_background": "light"
     },
     "output_type": "display_data"
    }
   ],
   "source": [
    "plt.scatter(x, low_scores, marker=\".\")\n",
    "plt.title('Зависимость количества категорий \"Низкий риск\" от оценки проверки')\n",
    "plt.xlabel('inspection_score')\n",
    "plt.ylabel('Количество заведений с категорией Low Risk')"
   ]
  },
  {
   "cell_type": "code",
   "execution_count": 56,
   "metadata": {},
   "outputs": [
    {
     "name": "stdout",
     "output_type": "stream",
     "text": [
      "49.51696866553208%\n"
     ]
    }
   ],
   "source": [
    "risk = data[(data['inspection_type']== 'Routine - Unscheduled') & ((data['risk_category']=='High Risk') | (data['risk_category']=='Moderate Risk'))].shape[0]\n",
    "total = data[data['inspection_type']== 'Routine - Unscheduled'].shape[0]\n",
    "print('{}%'.format(risk / total * 100))"
   ]
  },
  {
   "cell_type": "code",
   "execution_count": 57,
   "metadata": {},
   "outputs": [
    {
     "name": "stdout",
     "output_type": "stream",
     "text": [
      "30.263157894736842%\n"
     ]
    }
   ],
   "source": [
    "risk = data[(data['inspection_type']== 'Routine - Scheduled') & ((data['risk_category']=='High Risk') | (data['risk_category']=='Moderate Risk'))].shape[0]\n",
    "total = data[data['inspection_type']== 'Routine - Scheduled'].shape[0]\n",
    "print('{}%'.format(risk / total * 100))"
   ]
  },
  {
   "cell_type": "markdown",
   "metadata": {},
   "source": [
    "Видим, что при незапланированных проверках выявление рисков несколько выше"
   ]
  },
  {
   "cell_type": "code",
   "execution_count": null,
   "metadata": {},
   "outputs": [],
   "source": []
  }
 ],
 "metadata": {
  "kernelspec": {
   "display_name": "Python 3",
   "language": "python",
   "name": "python3"
  },
  "language_info": {
   "codemirror_mode": {
    "name": "ipython",
    "version": 3
   },
   "file_extension": ".py",
   "mimetype": "text/x-python",
   "name": "python",
   "nbconvert_exporter": "python",
   "pygments_lexer": "ipython3",
   "version": "3.7.4"
  }
 },
 "nbformat": 4,
 "nbformat_minor": 2
}
